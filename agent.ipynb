{
 "cells": [
  {
   "cell_type": "code",
   "execution_count": 1,
   "id": "0c20eab5",
   "metadata": {},
   "outputs": [],
   "source": [
    "from google import genai"
   ]
  },
  {
   "cell_type": "code",
   "execution_count": 5,
   "id": "1f3e8a5b",
   "metadata": {},
   "outputs": [],
   "source": [
    "import os\n",
    "os.environ[\"GOOGLE_APPLICATION_CREDENTIALS\"] = \"C:\\\\Users\\\\sohan kp\\\\Downloads\\\\city-graph-466517-5bdbc7e0c25e.json\""
   ]
  },
  {
   "cell_type": "code",
   "execution_count": null,
   "id": "929e1f42",
   "metadata": {},
   "outputs": [],
   "source": [
    "from google import genai\n",
    "from google.genai.types import HttpOptions\n",
    "\n",
    "client = genai.Client(  vertexai=True, project=\"city-graph-466517\",location=\"global\")\n",
    "response = client.models.generate_content(\n",
    "    model=\"gemini-2.5-flash\",\n",
    "    contents=\"How does AI work?\",\n",
    ")\n",
    "print(response.text)\n",
    "# Example response:\n",
    "# Okay, let's break down how AI works. It's a broad field, so I'll focus on the ...\n",
    "#\n",
    "# Here's a simplified overview:\n",
    "# ..."
   ]
  },
  {
   "cell_type": "code",
   "execution_count": null,
   "id": "6037e88a",
   "metadata": {},
   "outputs": [],
   "source": []
  }
 ],
 "metadata": {
  "kernelspec": {
   "display_name": ".venv",
   "language": "python",
   "name": "python3"
  },
  "language_info": {
   "codemirror_mode": {
    "name": "ipython",
    "version": 3
   },
   "file_extension": ".py",
   "mimetype": "text/x-python",
   "name": "python",
   "nbconvert_exporter": "python",
   "pygments_lexer": "ipython3",
   "version": "3.10.5"
  }
 },
 "nbformat": 4,
 "nbformat_minor": 5
}
